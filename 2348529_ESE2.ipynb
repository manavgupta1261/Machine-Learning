{
  "nbformat": 4,
  "nbformat_minor": 0,
  "metadata": {
    "colab": {
      "provenance": [],
      "authorship_tag": "ABX9TyNLenu8LC543imdUwFqUrfx",
      "include_colab_link": true
    },
    "kernelspec": {
      "name": "python3",
      "display_name": "Python 3"
    },
    "language_info": {
      "name": "python"
    }
  },
  "cells": [
    {
      "cell_type": "markdown",
      "metadata": {
        "id": "view-in-github",
        "colab_type": "text"
      },
      "source": [
        "<a href=\"https://colab.research.google.com/github/manavgupta1261/Machine-Learning/blob/main/2348529_ESE2.ipynb\" target=\"_parent\"><img src=\"https://colab.research.google.com/assets/colab-badge.svg\" alt=\"Open In Colab\"/></a>"
      ]
    },
    {
      "cell_type": "code",
      "execution_count": 89,
      "metadata": {
        "colab": {
          "base_uri": "https://localhost:8080/"
        },
        "id": "Oepla-ah0td2",
        "outputId": "7a8f1660-b914-45b4-8ca0-1aaccbbad616"
      },
      "outputs": [
        {
          "output_type": "stream",
          "name": "stdout",
          "text": [
            "Number 1 (big size)\n",
            "Initiating the observation of ethereal processes...\n",
            "Spectral PID: 1, Spectral Name: docker-init\n",
            "Spectral PID: 7, Spectral Name: node\n",
            "Spectral PID: 19, Spectral Name: tail\n",
            "Spectral PID: 30, Spectral Name: oom_monitor.sh\n",
            "Spectral PID: 32, Spectral Name: run.sh\n",
            "Spectral PID: 34, Spectral Name: kernel_manager_proxy\n",
            "Spectral PID: 57, Spectral Name: python3\n",
            "Spectral PID: 58, Spectral Name: colab-fileshim.\n",
            "Spectral PID: 75, Spectral Name: jupyter-noteboo\n",
            "Spectral PID: 76, Spectral Name: dap_multiplexer\n",
            "Spectral PID: 265, Spectral Name: python3\n",
            "Spectral PID: 320, Spectral Name: python3Spectral PID: 366, Spectral Name: node\n",
            "Spectral PID: 357, Spectral Name: language_service\n",
            "\n",
            "Spectral PID: 15484, Spectral Name: python3\n",
            "Spectral PID: 15488, Spectral Name: sleep\n",
            "Number 2 (big size)\n",
            "Number 3 (big size)\n",
            "Number 4 (big size)\n",
            "Number 5 (big size)\n",
            "Number 6 (big size)\n",
            "Number 7 (big size)\n",
            "Number 8 (big size)\n",
            "Number 9 (big size)\n",
            "Number 10 (big size)\n",
            "System Date and Time: 2023-10-04 10:04:56\n",
            "BackGround Record Starts..ALL THE BEST….\n"
          ]
        }
      ],
      "source": [
        "import os\n",
        "import platform\n",
        "import psutil\n",
        "import socket\n",
        "import multiprocessing\n",
        "import time\n",
        "from datetime import datetime\n",
        "\n",
        "def gather_system_info():\n",
        "    # Begin the arcane ritual of gathering esoteric system information\n",
        "    # By invoking various incantations and peering into the abyss\n",
        "\n",
        "    # Commence with deciphering the enigmatic Operating System details\n",
        "    mystical_os_name = os.name\n",
        "    cryptic_platform = platform.system()\n",
        "    cryptic_release_version = platform.release()\n",
        "\n",
        "    # Invoke the CPU spirits to reveal their mystic usage patterns\n",
        "    cryptic_cpu_info = psutil.cpu_percent(interval=1, percpu=True)\n",
        "\n",
        "    # Delve into the realm of memory and access the arcane memory data\n",
        "    mystical_memory_info = psutil.virtual_memory()\n",
        "    arcane_total_memory = mystical_memory_info.total\n",
        "    arcane_available_memory = mystical_memory_info.available\n",
        "\n",
        "    # Embark on a perilous journey to measure the essence of Disk Space\n",
        "    cryptic_disk_info = psutil.disk_usage('/')\n",
        "    mysterious_total_space = cryptic_disk_info.total\n",
        "    enigmatic_used_space = cryptic_disk_info.used\n",
        "    cryptic_free_space = cryptic_disk_info.free\n",
        "\n",
        "    # Reach out to the mystical Network spirits to uncover hostname and IP address\n",
        "    mystical_hostname = socket.gethostname()\n",
        "    arcane_ip_address = socket.gethostbyname(mystical_hostname)\n",
        "\n",
        "    # Commence a perilous endeavor to monitor the ethereal processes\n",
        "    print(\"Initiating the observation of ethereal processes...\")\n",
        "    for spectral_process in psutil.process_iter(['pid', 'name']):\n",
        "        spectral_pid = spectral_process.info['pid']\n",
        "        spectral_name = spectral_process.info['name']\n",
        "        print(f\"Spectral PID: {spectral_pid}, Spectral Name: {spectral_name}\")\n",
        "\n",
        "if __name__ == '__main__':\n",
        "    # Prepare the summoning circle for a separate, parallel dimension\n",
        "    parallel_realm_gates = multiprocessing.Process(target=gather_system_info)\n",
        "\n",
        "    # Open the gates and start the mysterious ritual in the background\n",
        "    parallel_realm_gates.start()\n",
        "\n",
        "    # Meanwhile, in the earthly realm, print numbers from 1 to 10 (big size) every second\n",
        "    for i in range(1, 11):\n",
        "        print(f\"Number {i} (big size)\")\n",
        "        time.sleep(1)\n",
        "\n",
        "    # Obtain the current system date and time\n",
        "    current_datetime = datetime.now().strftime(\"%Y-%m-%d %H:%M:%S\")\n",
        "    print(f\"System Date and Time: {current_datetime}\")\n",
        "\n",
        "    # Display the final message\n",
        "    print(\"BackGround Record Starts..ALL THE BEST….\")\n"
      ]
    },
    {
      "cell_type": "code",
      "source": [
        "import pandas as pd\n",
        "df = pd.read_csv('/content/HousingData.csv')"
      ],
      "metadata": {
        "id": "5jB5Bi_66gNP"
      },
      "execution_count": 78,
      "outputs": []
    },
    {
      "cell_type": "code",
      "source": [
        "df.head"
      ],
      "metadata": {
        "colab": {
          "base_uri": "https://localhost:8080/"
        },
        "id": "ea_1P-2g6nOX",
        "outputId": "aa281091-5a83-421a-b7d8-f0b3bb5e5558"
      },
      "execution_count": 79,
      "outputs": [
        {
          "output_type": "execute_result",
          "data": {
            "text/plain": [
              "<bound method NDFrame.head of         CRIM    ZN  INDUS  CHAS    NOX     RM   AGE     DIS  RAD  TAX  \\\n",
              "0    0.00632  18.0   2.31   0.0  0.538  6.575  65.2  4.0900    1  296   \n",
              "1    0.02731   0.0   7.07   0.0  0.469  6.421  78.9  4.9671    2  242   \n",
              "2    0.02729   0.0   7.07   0.0  0.469  7.185  61.1  4.9671    2  242   \n",
              "3    0.03237   0.0   2.18   0.0  0.458  6.998  45.8  6.0622    3  222   \n",
              "4    0.06905   0.0   2.18   0.0  0.458  7.147  54.2  6.0622    3  222   \n",
              "..       ...   ...    ...   ...    ...    ...   ...     ...  ...  ...   \n",
              "501  0.06263   0.0  11.93   0.0  0.573  6.593  69.1  2.4786    1  273   \n",
              "502  0.04527   0.0  11.93   0.0  0.573  6.120  76.7  2.2875    1  273   \n",
              "503  0.06076   0.0  11.93   0.0  0.573  6.976  91.0  2.1675    1  273   \n",
              "504  0.10959   0.0  11.93   0.0  0.573  6.794  89.3  2.3889    1  273   \n",
              "505  0.04741   0.0  11.93   0.0  0.573  6.030   NaN  2.5050    1  273   \n",
              "\n",
              "     PTRATIO       B  LSTAT  MEDV  \n",
              "0       15.3  396.90   4.98  24.0  \n",
              "1       17.8  396.90   9.14  21.6  \n",
              "2       17.8  392.83   4.03  34.7  \n",
              "3       18.7  394.63   2.94  33.4  \n",
              "4       18.7  396.90    NaN  36.2  \n",
              "..       ...     ...    ...   ...  \n",
              "501     21.0  391.99    NaN  22.4  \n",
              "502     21.0  396.90   9.08  20.6  \n",
              "503     21.0  396.90   5.64  23.9  \n",
              "504     21.0  393.45   6.48  22.0  \n",
              "505     21.0  396.90   7.88  11.9  \n",
              "\n",
              "[506 rows x 14 columns]>"
            ]
          },
          "metadata": {},
          "execution_count": 79
        }
      ]
    },
    {
      "cell_type": "code",
      "source": [
        "df.isnull().sum()"
      ],
      "metadata": {
        "colab": {
          "base_uri": "https://localhost:8080/"
        },
        "id": "dVJ22-X6CgTu",
        "outputId": "a48ac80f-9d09-42a9-f03f-4c2509d93c57"
      },
      "execution_count": 80,
      "outputs": [
        {
          "output_type": "execute_result",
          "data": {
            "text/plain": [
              "CRIM       20\n",
              "ZN         20\n",
              "INDUS      20\n",
              "CHAS       20\n",
              "NOX         0\n",
              "RM          0\n",
              "AGE        20\n",
              "DIS         0\n",
              "RAD         0\n",
              "TAX         0\n",
              "PTRATIO     0\n",
              "B           0\n",
              "LSTAT      20\n",
              "MEDV        0\n",
              "dtype: int64"
            ]
          },
          "metadata": {},
          "execution_count": 80
        }
      ]
    },
    {
      "cell_type": "code",
      "source": [
        "df.fillna( method ='ffill', inplace = True)"
      ],
      "metadata": {
        "id": "G5tGftInEfOI"
      },
      "execution_count": 81,
      "outputs": []
    },
    {
      "cell_type": "code",
      "source": [
        "cols = df.columns\n",
        "for i in cols:\n",
        " print(df[i].describe().T)"
      ],
      "metadata": {
        "colab": {
          "base_uri": "https://localhost:8080/"
        },
        "id": "EqKxAal16sSK",
        "outputId": "f264811a-d59e-4b03-bdb3-5d677b1e98d5"
      },
      "execution_count": 82,
      "outputs": [
        {
          "output_type": "stream",
          "name": "stdout",
          "text": [
            "count    506.000000\n",
            "mean       3.621543\n",
            "std        8.603231\n",
            "min        0.006320\n",
            "25%        0.082045\n",
            "50%        0.256510\n",
            "75%        3.689388\n",
            "max       88.976200\n",
            "Name: CRIM, dtype: float64\n",
            "count    506.000000\n",
            "mean      11.507905\n",
            "std       23.718793\n",
            "min        0.000000\n",
            "25%        0.000000\n",
            "50%        0.000000\n",
            "75%       12.500000\n",
            "max      100.000000\n",
            "Name: ZN, dtype: float64\n",
            "count    506.000000\n",
            "mean      11.136779\n",
            "std        6.860353\n",
            "min        0.460000\n",
            "25%        5.190000\n",
            "50%        9.690000\n",
            "75%       18.100000\n",
            "max       27.740000\n",
            "Name: INDUS, dtype: float64\n",
            "count    506.000000\n",
            "mean       0.067194\n",
            "std        0.250605\n",
            "min        0.000000\n",
            "25%        0.000000\n",
            "50%        0.000000\n",
            "75%        0.000000\n",
            "max        1.000000\n",
            "Name: CHAS, dtype: float64\n",
            "count    506.000000\n",
            "mean       0.554695\n",
            "std        0.115878\n",
            "min        0.385000\n",
            "25%        0.449000\n",
            "50%        0.538000\n",
            "75%        0.624000\n",
            "max        0.871000\n",
            "Name: NOX, dtype: float64\n",
            "count    506.000000\n",
            "mean       6.284634\n",
            "std        0.702617\n",
            "min        3.561000\n",
            "25%        5.885500\n",
            "50%        6.208500\n",
            "75%        6.623500\n",
            "max        8.780000\n",
            "Name: RM, dtype: float64\n",
            "count    506.000000\n",
            "mean      68.594862\n",
            "std       28.134705\n",
            "min        2.900000\n",
            "25%       45.175000\n",
            "50%       77.500000\n",
            "75%       93.975000\n",
            "max      100.000000\n",
            "Name: AGE, dtype: float64\n",
            "count    506.000000\n",
            "mean       3.795043\n",
            "std        2.105710\n",
            "min        1.129600\n",
            "25%        2.100175\n",
            "50%        3.207450\n",
            "75%        5.188425\n",
            "max       12.126500\n",
            "Name: DIS, dtype: float64\n",
            "count    506.000000\n",
            "mean       9.549407\n",
            "std        8.707259\n",
            "min        1.000000\n",
            "25%        4.000000\n",
            "50%        5.000000\n",
            "75%       24.000000\n",
            "max       24.000000\n",
            "Name: RAD, dtype: float64\n",
            "count    506.000000\n",
            "mean     408.237154\n",
            "std      168.537116\n",
            "min      187.000000\n",
            "25%      279.000000\n",
            "50%      330.000000\n",
            "75%      666.000000\n",
            "max      711.000000\n",
            "Name: TAX, dtype: float64\n",
            "count    506.000000\n",
            "mean      18.455534\n",
            "std        2.164946\n",
            "min       12.600000\n",
            "25%       17.400000\n",
            "50%       19.050000\n",
            "75%       20.200000\n",
            "max       22.000000\n",
            "Name: PTRATIO, dtype: float64\n",
            "count    506.000000\n",
            "mean     356.674032\n",
            "std       91.294864\n",
            "min        0.320000\n",
            "25%      375.377500\n",
            "50%      391.440000\n",
            "75%      396.225000\n",
            "max      396.900000\n",
            "Name: B, dtype: float64\n",
            "count    506.000000\n",
            "mean      12.721897\n",
            "std        7.139021\n",
            "min        1.730000\n",
            "25%        6.950000\n",
            "50%       11.490000\n",
            "75%       16.955000\n",
            "max       37.970000\n",
            "Name: LSTAT, dtype: float64\n",
            "count    506.000000\n",
            "mean      22.532806\n",
            "std        9.197104\n",
            "min        5.000000\n",
            "25%       17.025000\n",
            "50%       21.200000\n",
            "75%       25.000000\n",
            "max       50.000000\n",
            "Name: MEDV, dtype: float64\n"
          ]
        }
      ]
    },
    {
      "cell_type": "code",
      "source": [
        "X=df.drop(columns='MEDV', axis=1)\n",
        "Y=df['MEDV']"
      ],
      "metadata": {
        "id": "j5308SKq-4Wq"
      },
      "execution_count": 83,
      "outputs": []
    },
    {
      "cell_type": "code",
      "source": [
        "from sklearn.model_selection import train_test_split\n",
        "X_train, X_test, Y_train, Y_test = train_test_split(X, Y, test_size = 0.2, random_state=2)"
      ],
      "metadata": {
        "id": "LNvjIw_S9lGn"
      },
      "execution_count": 84,
      "outputs": []
    },
    {
      "cell_type": "code",
      "source": [
        "from sklearn.linear_model import LinearRegression\n",
        "model=LinearRegression()\n",
        "model.fit(X_train,Y_train)"
      ],
      "metadata": {
        "colab": {
          "base_uri": "https://localhost:8080/",
          "height": 74
        },
        "id": "BeeGVs0a_VX1",
        "outputId": "9b548f59-f7de-46a2-9752-d3f5cc2aceff"
      },
      "execution_count": 85,
      "outputs": [
        {
          "output_type": "execute_result",
          "data": {
            "text/plain": [
              "LinearRegression()"
            ],
            "text/html": [
              "<style>#sk-container-id-3 {color: black;background-color: white;}#sk-container-id-3 pre{padding: 0;}#sk-container-id-3 div.sk-toggleable {background-color: white;}#sk-container-id-3 label.sk-toggleable__label {cursor: pointer;display: block;width: 100%;margin-bottom: 0;padding: 0.3em;box-sizing: border-box;text-align: center;}#sk-container-id-3 label.sk-toggleable__label-arrow:before {content: \"▸\";float: left;margin-right: 0.25em;color: #696969;}#sk-container-id-3 label.sk-toggleable__label-arrow:hover:before {color: black;}#sk-container-id-3 div.sk-estimator:hover label.sk-toggleable__label-arrow:before {color: black;}#sk-container-id-3 div.sk-toggleable__content {max-height: 0;max-width: 0;overflow: hidden;text-align: left;background-color: #f0f8ff;}#sk-container-id-3 div.sk-toggleable__content pre {margin: 0.2em;color: black;border-radius: 0.25em;background-color: #f0f8ff;}#sk-container-id-3 input.sk-toggleable__control:checked~div.sk-toggleable__content {max-height: 200px;max-width: 100%;overflow: auto;}#sk-container-id-3 input.sk-toggleable__control:checked~label.sk-toggleable__label-arrow:before {content: \"▾\";}#sk-container-id-3 div.sk-estimator input.sk-toggleable__control:checked~label.sk-toggleable__label {background-color: #d4ebff;}#sk-container-id-3 div.sk-label input.sk-toggleable__control:checked~label.sk-toggleable__label {background-color: #d4ebff;}#sk-container-id-3 input.sk-hidden--visually {border: 0;clip: rect(1px 1px 1px 1px);clip: rect(1px, 1px, 1px, 1px);height: 1px;margin: -1px;overflow: hidden;padding: 0;position: absolute;width: 1px;}#sk-container-id-3 div.sk-estimator {font-family: monospace;background-color: #f0f8ff;border: 1px dotted black;border-radius: 0.25em;box-sizing: border-box;margin-bottom: 0.5em;}#sk-container-id-3 div.sk-estimator:hover {background-color: #d4ebff;}#sk-container-id-3 div.sk-parallel-item::after {content: \"\";width: 100%;border-bottom: 1px solid gray;flex-grow: 1;}#sk-container-id-3 div.sk-label:hover label.sk-toggleable__label {background-color: #d4ebff;}#sk-container-id-3 div.sk-serial::before {content: \"\";position: absolute;border-left: 1px solid gray;box-sizing: border-box;top: 0;bottom: 0;left: 50%;z-index: 0;}#sk-container-id-3 div.sk-serial {display: flex;flex-direction: column;align-items: center;background-color: white;padding-right: 0.2em;padding-left: 0.2em;position: relative;}#sk-container-id-3 div.sk-item {position: relative;z-index: 1;}#sk-container-id-3 div.sk-parallel {display: flex;align-items: stretch;justify-content: center;background-color: white;position: relative;}#sk-container-id-3 div.sk-item::before, #sk-container-id-3 div.sk-parallel-item::before {content: \"\";position: absolute;border-left: 1px solid gray;box-sizing: border-box;top: 0;bottom: 0;left: 50%;z-index: -1;}#sk-container-id-3 div.sk-parallel-item {display: flex;flex-direction: column;z-index: 1;position: relative;background-color: white;}#sk-container-id-3 div.sk-parallel-item:first-child::after {align-self: flex-end;width: 50%;}#sk-container-id-3 div.sk-parallel-item:last-child::after {align-self: flex-start;width: 50%;}#sk-container-id-3 div.sk-parallel-item:only-child::after {width: 0;}#sk-container-id-3 div.sk-dashed-wrapped {border: 1px dashed gray;margin: 0 0.4em 0.5em 0.4em;box-sizing: border-box;padding-bottom: 0.4em;background-color: white;}#sk-container-id-3 div.sk-label label {font-family: monospace;font-weight: bold;display: inline-block;line-height: 1.2em;}#sk-container-id-3 div.sk-label-container {text-align: center;}#sk-container-id-3 div.sk-container {/* jupyter's `normalize.less` sets `[hidden] { display: none; }` but bootstrap.min.css set `[hidden] { display: none !important; }` so we also need the `!important` here to be able to override the default hidden behavior on the sphinx rendered scikit-learn.org. See: https://github.com/scikit-learn/scikit-learn/issues/21755 */display: inline-block !important;position: relative;}#sk-container-id-3 div.sk-text-repr-fallback {display: none;}</style><div id=\"sk-container-id-3\" class=\"sk-top-container\"><div class=\"sk-text-repr-fallback\"><pre>LinearRegression()</pre><b>In a Jupyter environment, please rerun this cell to show the HTML representation or trust the notebook. <br />On GitHub, the HTML representation is unable to render, please try loading this page with nbviewer.org.</b></div><div class=\"sk-container\" hidden><div class=\"sk-item\"><div class=\"sk-estimator sk-toggleable\"><input class=\"sk-toggleable__control sk-hidden--visually\" id=\"sk-estimator-id-3\" type=\"checkbox\" checked><label for=\"sk-estimator-id-3\" class=\"sk-toggleable__label sk-toggleable__label-arrow\">LinearRegression</label><div class=\"sk-toggleable__content\"><pre>LinearRegression()</pre></div></div></div></div></div>"
            ]
          },
          "metadata": {},
          "execution_count": 85
        }
      ]
    },
    {
      "cell_type": "code",
      "source": [
        "from sklearn.metrics import mean_squared_error as mse\n",
        "mserror=mse(Y_test,X_test_prediction)\n",
        "mserror"
      ],
      "metadata": {
        "colab": {
          "base_uri": "https://localhost:8080/"
        },
        "id": "LaGgExtACBj_",
        "outputId": "95624da4-cabb-47ee-fe8e-4f017e5d4db1"
      },
      "execution_count": 86,
      "outputs": [
        {
          "output_type": "execute_result",
          "data": {
            "text/plain": [
              "20.793046888807726"
            ]
          },
          "metadata": {},
          "execution_count": 86
        }
      ]
    },
    {
      "cell_type": "code",
      "source": [
        "import matplotlib.pyplot as plt\n",
        "g=plt.scatter(Y_test,X_test_prediction)\n",
        "p1 = max(max(X_test_prediction), max(Y_test))\n",
        "p2 = min(min(X_test_prediction), min(Y_test))\n",
        "plt.plot([p1, p2], [p1, p2], 'b-')\n",
        "plt.show()"
      ],
      "metadata": {
        "colab": {
          "base_uri": "https://localhost:8080/",
          "height": 430
        },
        "id": "N4N3PSWuFVV_",
        "outputId": "b1c7ec60-b4dc-45da-c10d-1cfd869434eb"
      },
      "execution_count": 87,
      "outputs": [
        {
          "output_type": "display_data",
          "data": {
            "text/plain": [
              "<Figure size 640x480 with 1 Axes>"
            ],
            "image/png": "[encoded data removed]"
          },
          "metadata": {}
        }
      ]
    },
    {
      "cell_type": "code",
      "source": [
        "import matplotlib.pyplot as plt\n",
        "import numpy as np\n",
        "x=df['MEDV']\n",
        "y=df['RM']\n",
        "\n",
        "plt.scatter(y, x)\n",
        "plt.show()\n"
      ],
      "metadata": {
        "colab": {
          "base_uri": "https://localhost:8080/",
          "height": 430
        },
        "id": "WGn97FkyGgWy",
        "outputId": "6519680d-50b3-430f-cf9f-65594a0953dd"
      },
      "execution_count": 88,
      "outputs": [
        {
          "output_type": "display_data",
          "data": {
            "text/plain": [
              "<Figure size 640x480 with 1 Axes>"
            ],
            "image/png": "[encoded data removed]"
          },
          "metadata": {}
        }
      ]
    }
  ]
}