{
  "nbformat": 4,
  "nbformat_minor": 0,
  "metadata": {
    "colab": {
      "provenance": [],
      "authorship_tag": "ABX9TyNoZ68drVbAVzCeETZeJH/m",
      "include_colab_link": true
    },
    "kernelspec": {
      "name": "python3",
      "display_name": "Python 3"
    },
    "language_info": {
      "name": "python"
    }
  },
  "cells": [
    {
      "cell_type": "markdown",
      "metadata": {
        "id": "view-in-github",
        "colab_type": "text"
      },
      "source": [
        "<a href=\"https://colab.research.google.com/github/manavgupta1261/Machine-Learning/blob/main/2348529_MLComponent2.ipynb\" target=\"_parent\"><img src=\"https://colab.research.google.com/assets/colab-badge.svg\" alt=\"Open In Colab\"/></a>"
      ]
    },
    {
      "cell_type": "code",
      "execution_count": 45,
      "metadata": {
        "id": "K6pwUFtxhL8L"
      },
      "outputs": [],
      "source": [
        "import pandas as pd\n",
        "import numpy as np\n",
        "from sklearn.preprocessing import StandardScaler\n",
        "\n",
        "import matplotlib.pyplot as plt\n",
        "from scipy.stats import chi2_contingency\n",
        "\n",
        "df = pd.read_csv('/2015.csv')"
      ]
    },
    {
      "cell_type": "code",
      "source": [
        "df.head"
      ],
      "metadata": {
        "colab": {
          "base_uri": "https://localhost:8080/"
        },
        "id": "MdVMuPEjjj2w",
        "outputId": "a0ccd03e-73de-478e-a8e1-20d0ee22c2da"
      },
      "execution_count": 46,
      "outputs": [
        {
          "output_type": "execute_result",
          "data": {
            "text/plain": [
              "<bound method NDFrame.head of          Country                           Region  Happiness Rank  \\\n",
              "0    Switzerland                   Western Europe               1   \n",
              "1        Iceland                   Western Europe               2   \n",
              "2        Denmark                   Western Europe               3   \n",
              "3         Norway                   Western Europe               4   \n",
              "4         Canada                    North America               5   \n",
              "..           ...                              ...             ...   \n",
              "153       Rwanda               Sub-Saharan Africa             154   \n",
              "154        Benin               Sub-Saharan Africa             155   \n",
              "155        Syria  Middle East and Northern Africa             156   \n",
              "156      Burundi               Sub-Saharan Africa             157   \n",
              "157         Togo               Sub-Saharan Africa             158   \n",
              "\n",
              "     Happiness Score  Standard Error  Economy (GDP per Capita)   Family  \\\n",
              "0              7.587         0.03411                   1.39651  1.34951   \n",
              "1              7.561         0.04884                   1.30232  1.40223   \n",
              "2              7.527         0.03328                   1.32548  1.36058   \n",
              "3              7.522         0.03880                   1.45900  1.33095   \n",
              "4              7.427         0.03553                   1.32629  1.32261   \n",
              "..               ...             ...                       ...      ...   \n",
              "153            3.465         0.03464                   0.22208  0.77370   \n",
              "154            3.340         0.03656                   0.28665  0.35386   \n",
              "155            3.006         0.05015                   0.66320  0.47489   \n",
              "156            2.905         0.08658                   0.01530  0.41587   \n",
              "157            2.839         0.06727                   0.20868  0.13995   \n",
              "\n",
              "     Health (Life Expectancy)  Freedom  Trust (Government Corruption)  \\\n",
              "0                     0.94143  0.66557                        0.41978   \n",
              "1                     0.94784  0.62877                        0.14145   \n",
              "2                     0.87464  0.64938                        0.48357   \n",
              "3                     0.88521  0.66973                        0.36503   \n",
              "4                     0.90563  0.63297                        0.32957   \n",
              "..                        ...      ...                            ...   \n",
              "153                   0.42864  0.59201                        0.55191   \n",
              "154                   0.31910  0.48450                        0.08010   \n",
              "155                   0.72193  0.15684                        0.18906   \n",
              "156                   0.22396  0.11850                        0.10062   \n",
              "157                   0.28443  0.36453                        0.10731   \n",
              "\n",
              "     Generosity  Dystopia Residual  \n",
              "0       0.29678            2.51738  \n",
              "1       0.43630            2.70201  \n",
              "2       0.34139            2.49204  \n",
              "3       0.34699            2.46531  \n",
              "4       0.45811            2.45176  \n",
              "..          ...                ...  \n",
              "153     0.22628            0.67042  \n",
              "154     0.18260            1.63328  \n",
              "155     0.47179            0.32858  \n",
              "156     0.19727            1.83302  \n",
              "157     0.16681            1.56726  \n",
              "\n",
              "[158 rows x 12 columns]>"
            ]
          },
          "metadata": {},
          "execution_count": 46
        }
      ]
    },
    {
      "cell_type": "code",
      "source": [
        "df.isnull().sum()"
      ],
      "metadata": {
        "colab": {
          "base_uri": "https://localhost:8080/"
        },
        "id": "MEKgO_uLidlC",
        "outputId": "0fa48dcf-3bbd-4efe-d411-4e27bf5e6e3e"
      },
      "execution_count": 47,
      "outputs": [
        {
          "output_type": "execute_result",
          "data": {
            "text/plain": [
              "Country                          0\n",
              "Region                           0\n",
              "Happiness Rank                   0\n",
              "Happiness Score                  0\n",
              "Standard Error                   0\n",
              "Economy (GDP per Capita)         0\n",
              "Family                           0\n",
              "Health (Life Expectancy)         0\n",
              "Freedom                          0\n",
              "Trust (Government Corruption)    0\n",
              "Generosity                       0\n",
              "Dystopia Residual                0\n",
              "dtype: int64"
            ]
          },
          "metadata": {},
          "execution_count": 47
        }
      ]
    },
    {
      "cell_type": "code",
      "source": [
        "cols=[x for x in df.columns]"
      ],
      "metadata": {
        "id": "eYtJW0vflWJ7"
      },
      "execution_count": 26,
      "outputs": []
    },
    {
      "cell_type": "code",
      "source": [
        "for i in cols:\n",
        "  print(df[i].describe().T)"
      ],
      "metadata": {
        "colab": {
          "base_uri": "https://localhost:8080/"
        },
        "id": "zkSFc-tPkYV7",
        "outputId": "4593f0b0-4564-4ce0-aa0a-e3d8fec857b2"
      },
      "execution_count": 27,
      "outputs": [
        {
          "output_type": "stream",
          "name": "stdout",
          "text": [
            "count             158\n",
            "unique            158\n",
            "top       Switzerland\n",
            "freq                1\n",
            "Name: Country, dtype: object\n",
            "count                    158\n",
            "unique                    10\n",
            "top       Sub-Saharan Africa\n",
            "freq                      40\n",
            "Name: Region, dtype: object\n",
            "count    158.000000\n",
            "mean      79.493671\n",
            "std       45.754363\n",
            "min        1.000000\n",
            "25%       40.250000\n",
            "50%       79.500000\n",
            "75%      118.750000\n",
            "max      158.000000\n",
            "Name: Happiness Rank, dtype: float64\n",
            "count    158.000000\n",
            "mean       5.375734\n",
            "std        1.145010\n",
            "min        2.839000\n",
            "25%        4.526000\n",
            "50%        5.232500\n",
            "75%        6.243750\n",
            "max        7.587000\n",
            "Name: Happiness Score, dtype: float64\n",
            "count    158.000000\n",
            "mean       0.047885\n",
            "std        0.017146\n",
            "min        0.018480\n",
            "25%        0.037268\n",
            "50%        0.043940\n",
            "75%        0.052300\n",
            "max        0.136930\n",
            "Name: Standard Error, dtype: float64\n",
            "count    158.000000\n",
            "mean       0.846137\n",
            "std        0.403121\n",
            "min        0.000000\n",
            "25%        0.545808\n",
            "50%        0.910245\n",
            "75%        1.158448\n",
            "max        1.690420\n",
            "Name: Economy (GDP per Capita), dtype: float64\n",
            "count    158.000000\n",
            "mean       0.991046\n",
            "std        0.272369\n",
            "min        0.000000\n",
            "25%        0.856823\n",
            "50%        1.029510\n",
            "75%        1.214405\n",
            "max        1.402230\n",
            "Name: Family, dtype: float64\n",
            "count    158.000000\n",
            "mean       0.630259\n",
            "std        0.247078\n",
            "min        0.000000\n",
            "25%        0.439185\n",
            "50%        0.696705\n",
            "75%        0.811013\n",
            "max        1.025250\n",
            "Name: Health (Life Expectancy), dtype: float64\n",
            "count    158.000000\n",
            "mean       0.428615\n",
            "std        0.150693\n",
            "min        0.000000\n",
            "25%        0.328330\n",
            "50%        0.435515\n",
            "75%        0.549092\n",
            "max        0.669730\n",
            "Name: Freedom, dtype: float64\n",
            "count    158.000000\n",
            "mean       0.143422\n",
            "std        0.120034\n",
            "min        0.000000\n",
            "25%        0.061675\n",
            "50%        0.107220\n",
            "75%        0.180255\n",
            "max        0.551910\n",
            "Name: Trust (Government Corruption), dtype: float64\n",
            "count    158.000000\n",
            "mean       0.237296\n",
            "std        0.126685\n",
            "min        0.000000\n",
            "25%        0.150553\n",
            "50%        0.216130\n",
            "75%        0.309883\n",
            "max        0.795880\n",
            "Name: Generosity, dtype: float64\n",
            "count    158.000000\n",
            "mean       2.098977\n",
            "std        0.553550\n",
            "min        0.328580\n",
            "25%        1.759410\n",
            "50%        2.095415\n",
            "75%        2.462415\n",
            "max        3.602140\n",
            "Name: Dystopia Residual, dtype: float64\n"
          ]
        }
      ]
    },
    {
      "cell_type": "code",
      "source": [
        "bin_edges = [0, 4.526000, 6.243750, 7.587000]\n",
        "bin_labels = ['Low', 'Medium', 'High']\n",
        "df['Binned_Happiness'] = pd.cut(df['Happiness Score'], bins=bin_edges, labels=bin_labels, include_lowest=True)"
      ],
      "metadata": {
        "id": "DJoMQGb3j_Kz"
      },
      "execution_count": 28,
      "outputs": []
    },
    {
      "cell_type": "code",
      "source": [
        "df.head"
      ],
      "metadata": {
        "colab": {
          "base_uri": "https://localhost:8080/"
        },
        "id": "EdJ7t9Ksnrvj",
        "outputId": "7b70cb46-afd1-4bb4-959d-5ed7d19ecec2"
      },
      "execution_count": 29,
      "outputs": [
        {
          "output_type": "execute_result",
          "data": {
            "text/plain": [
              "<bound method NDFrame.head of          Country                           Region  Happiness Rank  \\\n",
              "0    Switzerland                   Western Europe               1   \n",
              "1        Iceland                   Western Europe               2   \n",
              "2        Denmark                   Western Europe               3   \n",
              "3         Norway                   Western Europe               4   \n",
              "4         Canada                    North America               5   \n",
              "..           ...                              ...             ...   \n",
              "153       Rwanda               Sub-Saharan Africa             154   \n",
              "154        Benin               Sub-Saharan Africa             155   \n",
              "155        Syria  Middle East and Northern Africa             156   \n",
              "156      Burundi               Sub-Saharan Africa             157   \n",
              "157         Togo               Sub-Saharan Africa             158   \n",
              "\n",
              "     Happiness Score  Standard Error  Economy (GDP per Capita)   Family  \\\n",
              "0              7.587         0.03411                   1.39651  1.34951   \n",
              "1              7.561         0.04884                   1.30232  1.40223   \n",
              "2              7.527         0.03328                   1.32548  1.36058   \n",
              "3              7.522         0.03880                   1.45900  1.33095   \n",
              "4              7.427         0.03553                   1.32629  1.32261   \n",
              "..               ...             ...                       ...      ...   \n",
              "153            3.465         0.03464                   0.22208  0.77370   \n",
              "154            3.340         0.03656                   0.28665  0.35386   \n",
              "155            3.006         0.05015                   0.66320  0.47489   \n",
              "156            2.905         0.08658                   0.01530  0.41587   \n",
              "157            2.839         0.06727                   0.20868  0.13995   \n",
              "\n",
              "     Health (Life Expectancy)  Freedom  Trust (Government Corruption)  \\\n",
              "0                     0.94143  0.66557                        0.41978   \n",
              "1                     0.94784  0.62877                        0.14145   \n",
              "2                     0.87464  0.64938                        0.48357   \n",
              "3                     0.88521  0.66973                        0.36503   \n",
              "4                     0.90563  0.63297                        0.32957   \n",
              "..                        ...      ...                            ...   \n",
              "153                   0.42864  0.59201                        0.55191   \n",
              "154                   0.31910  0.48450                        0.08010   \n",
              "155                   0.72193  0.15684                        0.18906   \n",
              "156                   0.22396  0.11850                        0.10062   \n",
              "157                   0.28443  0.36453                        0.10731   \n",
              "\n",
              "     Generosity  Dystopia Residual Binned_Happiness  \n",
              "0       0.29678            2.51738             High  \n",
              "1       0.43630            2.70201             High  \n",
              "2       0.34139            2.49204             High  \n",
              "3       0.34699            2.46531             High  \n",
              "4       0.45811            2.45176             High  \n",
              "..          ...                ...              ...  \n",
              "153     0.22628            0.67042              Low  \n",
              "154     0.18260            1.63328              Low  \n",
              "155     0.47179            0.32858              Low  \n",
              "156     0.19727            1.83302              Low  \n",
              "157     0.16681            1.56726              Low  \n",
              "\n",
              "[158 rows x 13 columns]>"
            ]
          },
          "metadata": {},
          "execution_count": 29
        }
      ]
    },
    {
      "cell_type": "code",
      "source": [
        "hap_bin_counts = df['Binned_Happiness'].value_counts().sort_index()\n",
        "plt.figure(figsize=(10, 6))\n",
        "hap_bin_counts.plot(kind='bar', color='skyblue')\n",
        "plt.title('Number of Countries in happiness bin')\n",
        "plt.xlabel('Happiness')\n",
        "plt.ylabel('Countries')\n",
        "plt.xticks(rotation=45)\n",
        "plt.tight_layout()\n",
        "plt.show()"
      ],
      "metadata": {
        "id": "0MsOlFUbn_-j"
      },
      "execution_count": null,
      "outputs": []
    },
    {
      "cell_type": "code",
      "source": [
        "region_encoded = pd.get_dummies(df['Region'], prefix='Region')\n",
        "df = pd.concat([df, region_encoded], axis=1)\n",
        "df.drop('Region', axis=1, inplace=True)"
      ],
      "metadata": {
        "id": "M1fjov5Wprs2"
      },
      "execution_count": 31,
      "outputs": []
    },
    {
      "cell_type": "code",
      "source": [
        "df.to_csv('encoded_data.csv', index=False)"
      ],
      "metadata": {
        "id": "naxjR-h7p92J"
      },
      "execution_count": 32,
      "outputs": []
    },
    {
      "cell_type": "code",
      "source": [
        "df.head"
      ],
      "metadata": {
        "colab": {
          "base_uri": "https://localhost:8080/"
        },
        "id": "Rc0nM_nmqXUZ",
        "outputId": "98456a2b-f30b-467f-a547-7c2a8a2f3d69"
      },
      "execution_count": 37,
      "outputs": [
        {
          "output_type": "execute_result",
          "data": {
            "text/plain": [
              "<bound method NDFrame.head of          Country  Happiness Rank  Happiness Score  Standard Error  \\\n",
              "0    Switzerland               1            7.587         0.03411   \n",
              "1        Iceland               2            7.561         0.04884   \n",
              "2        Denmark               3            7.527         0.03328   \n",
              "3         Norway               4            7.522         0.03880   \n",
              "4         Canada               5            7.427         0.03553   \n",
              "..           ...             ...              ...             ...   \n",
              "153       Rwanda             154            3.465         0.03464   \n",
              "154        Benin             155            3.340         0.03656   \n",
              "155        Syria             156            3.006         0.05015   \n",
              "156      Burundi             157            2.905         0.08658   \n",
              "157         Togo             158            2.839         0.06727   \n",
              "\n",
              "     Economy (GDP per Capita)   Family  Health (Life Expectancy)  Freedom  \\\n",
              "0                     1.39651  1.34951                   0.94143  0.66557   \n",
              "1                     1.30232  1.40223                   0.94784  0.62877   \n",
              "2                     1.32548  1.36058                   0.87464  0.64938   \n",
              "3                     1.45900  1.33095                   0.88521  0.66973   \n",
              "4                     1.32629  1.32261                   0.90563  0.63297   \n",
              "..                        ...      ...                       ...      ...   \n",
              "153                   0.22208  0.77370                   0.42864  0.59201   \n",
              "154                   0.28665  0.35386                   0.31910  0.48450   \n",
              "155                   0.66320  0.47489                   0.72193  0.15684   \n",
              "156                   0.01530  0.41587                   0.22396  0.11850   \n",
              "157                   0.20868  0.13995                   0.28443  0.36453   \n",
              "\n",
              "     Trust (Government Corruption)  Generosity  ...  \\\n",
              "0                          0.41978     0.29678  ...   \n",
              "1                          0.14145     0.43630  ...   \n",
              "2                          0.48357     0.34139  ...   \n",
              "3                          0.36503     0.34699  ...   \n",
              "4                          0.32957     0.45811  ...   \n",
              "..                             ...         ...  ...   \n",
              "153                        0.55191     0.22628  ...   \n",
              "154                        0.08010     0.18260  ...   \n",
              "155                        0.18906     0.47179  ...   \n",
              "156                        0.10062     0.19727  ...   \n",
              "157                        0.10731     0.16681  ...   \n",
              "\n",
              "     Region_Australia and New Zealand Region_Central and Eastern Europe  \\\n",
              "0                                   0                                 0   \n",
              "1                                   0                                 0   \n",
              "2                                   0                                 0   \n",
              "3                                   0                                 0   \n",
              "4                                   0                                 0   \n",
              "..                                ...                               ...   \n",
              "153                                 0                                 0   \n",
              "154                                 0                                 0   \n",
              "155                                 0                                 0   \n",
              "156                                 0                                 0   \n",
              "157                                 0                                 0   \n",
              "\n",
              "     Region_Eastern Asia  Region_Latin America and Caribbean  \\\n",
              "0                      0                                   0   \n",
              "1                      0                                   0   \n",
              "2                      0                                   0   \n",
              "3                      0                                   0   \n",
              "4                      0                                   0   \n",
              "..                   ...                                 ...   \n",
              "153                    0                                   0   \n",
              "154                    0                                   0   \n",
              "155                    0                                   0   \n",
              "156                    0                                   0   \n",
              "157                    0                                   0   \n",
              "\n",
              "     Region_Middle East and Northern Africa  Region_North America  \\\n",
              "0                                         0                     0   \n",
              "1                                         0                     0   \n",
              "2                                         0                     0   \n",
              "3                                         0                     0   \n",
              "4                                         0                     1   \n",
              "..                                      ...                   ...   \n",
              "153                                       0                     0   \n",
              "154                                       0                     0   \n",
              "155                                       1                     0   \n",
              "156                                       0                     0   \n",
              "157                                       0                     0   \n",
              "\n",
              "     Region_Southeastern Asia  Region_Southern Asia  \\\n",
              "0                           0                     0   \n",
              "1                           0                     0   \n",
              "2                           0                     0   \n",
              "3                           0                     0   \n",
              "4                           0                     0   \n",
              "..                        ...                   ...   \n",
              "153                         0                     0   \n",
              "154                         0                     0   \n",
              "155                         0                     0   \n",
              "156                         0                     0   \n",
              "157                         0                     0   \n",
              "\n",
              "     Region_Sub-Saharan Africa  Region_Western Europe  \n",
              "0                            0                      1  \n",
              "1                            0                      1  \n",
              "2                            0                      1  \n",
              "3                            0                      1  \n",
              "4                            0                      0  \n",
              "..                         ...                    ...  \n",
              "153                          1                      0  \n",
              "154                          1                      0  \n",
              "155                          0                      0  \n",
              "156                          1                      0  \n",
              "157                          1                      0  \n",
              "\n",
              "[158 rows x 22 columns]>"
            ]
          },
          "metadata": {},
          "execution_count": 37
        }
      ]
    },
    {
      "cell_type": "code",
      "source": [
        "from scipy.stats import chi2_contingency\n",
        "data_happ = df['Happiness Rank']\n",
        "data_reg = df['Region_Australia and New Zealand']\n",
        "contingency_table = pd.crosstab(data_happ, data_reg)\n",
        "chi2, p, dof, expected = chi2_contingency(contingency_table)\n",
        "print(\"Chi-square statistic:\", chi2)\n",
        "print(\"P-value:\", p)\n",
        "print(\"Degrees of freedom:\", dof)\n",
        "print(\"Expected frequencies:\")\n",
        "print(expected)"
      ],
      "metadata": {
        "colab": {
          "base_uri": "https://localhost:8080/"
        },
        "id": "n7ee2qV4qyrJ",
        "outputId": "1b8a6c23-4fa4-4461-dddd-15e09813418a"
      },
      "execution_count": 41,
      "outputs": [
        {
          "output_type": "stream",
          "name": "stdout",
          "text": [
            "Chi-square statistic: 158.00000000000006\n",
            "P-value: 0.4402002812456581\n",
            "Degrees of freedom: 156\n",
            "Expected frequencies:\n",
            "[[0.98734177 0.01265823]\n",
            " [0.98734177 0.01265823]\n",
            " [0.98734177 0.01265823]\n",
            " [0.98734177 0.01265823]\n",
            " [0.98734177 0.01265823]\n",
            " [0.98734177 0.01265823]\n",
            " [0.98734177 0.01265823]\n",
            " [0.98734177 0.01265823]\n",
            " [0.98734177 0.01265823]\n",
            " [0.98734177 0.01265823]\n",
            " [0.98734177 0.01265823]\n",
            " [0.98734177 0.01265823]\n",
            " [0.98734177 0.01265823]\n",
            " [0.98734177 0.01265823]\n",
            " [0.98734177 0.01265823]\n",
            " [0.98734177 0.01265823]\n",
            " [0.98734177 0.01265823]\n",
            " [0.98734177 0.01265823]\n",
            " [0.98734177 0.01265823]\n",
            " [0.98734177 0.01265823]\n",
            " [0.98734177 0.01265823]\n",
            " [0.98734177 0.01265823]\n",
            " [0.98734177 0.01265823]\n",
            " [0.98734177 0.01265823]\n",
            " [0.98734177 0.01265823]\n",
            " [0.98734177 0.01265823]\n",
            " [0.98734177 0.01265823]\n",
            " [0.98734177 0.01265823]\n",
            " [0.98734177 0.01265823]\n",
            " [0.98734177 0.01265823]\n",
            " [0.98734177 0.01265823]\n",
            " [0.98734177 0.01265823]\n",
            " [0.98734177 0.01265823]\n",
            " [0.98734177 0.01265823]\n",
            " [0.98734177 0.01265823]\n",
            " [0.98734177 0.01265823]\n",
            " [0.98734177 0.01265823]\n",
            " [0.98734177 0.01265823]\n",
            " [0.98734177 0.01265823]\n",
            " [0.98734177 0.01265823]\n",
            " [0.98734177 0.01265823]\n",
            " [0.98734177 0.01265823]\n",
            " [0.98734177 0.01265823]\n",
            " [0.98734177 0.01265823]\n",
            " [0.98734177 0.01265823]\n",
            " [0.98734177 0.01265823]\n",
            " [0.98734177 0.01265823]\n",
            " [0.98734177 0.01265823]\n",
            " [0.98734177 0.01265823]\n",
            " [0.98734177 0.01265823]\n",
            " [0.98734177 0.01265823]\n",
            " [0.98734177 0.01265823]\n",
            " [0.98734177 0.01265823]\n",
            " [0.98734177 0.01265823]\n",
            " [0.98734177 0.01265823]\n",
            " [0.98734177 0.01265823]\n",
            " [0.98734177 0.01265823]\n",
            " [0.98734177 0.01265823]\n",
            " [0.98734177 0.01265823]\n",
            " [0.98734177 0.01265823]\n",
            " [0.98734177 0.01265823]\n",
            " [0.98734177 0.01265823]\n",
            " [0.98734177 0.01265823]\n",
            " [0.98734177 0.01265823]\n",
            " [0.98734177 0.01265823]\n",
            " [0.98734177 0.01265823]\n",
            " [0.98734177 0.01265823]\n",
            " [0.98734177 0.01265823]\n",
            " [0.98734177 0.01265823]\n",
            " [0.98734177 0.01265823]\n",
            " [0.98734177 0.01265823]\n",
            " [0.98734177 0.01265823]\n",
            " [0.98734177 0.01265823]\n",
            " [0.98734177 0.01265823]\n",
            " [0.98734177 0.01265823]\n",
            " [0.98734177 0.01265823]\n",
            " [0.98734177 0.01265823]\n",
            " [0.98734177 0.01265823]\n",
            " [0.98734177 0.01265823]\n",
            " [0.98734177 0.01265823]\n",
            " [0.98734177 0.01265823]\n",
            " [1.97468354 0.02531646]\n",
            " [0.98734177 0.01265823]\n",
            " [0.98734177 0.01265823]\n",
            " [0.98734177 0.01265823]\n",
            " [0.98734177 0.01265823]\n",
            " [0.98734177 0.01265823]\n",
            " [0.98734177 0.01265823]\n",
            " [0.98734177 0.01265823]\n",
            " [0.98734177 0.01265823]\n",
            " [0.98734177 0.01265823]\n",
            " [0.98734177 0.01265823]\n",
            " [0.98734177 0.01265823]\n",
            " [0.98734177 0.01265823]\n",
            " [0.98734177 0.01265823]\n",
            " [0.98734177 0.01265823]\n",
            " [0.98734177 0.01265823]\n",
            " [0.98734177 0.01265823]\n",
            " [0.98734177 0.01265823]\n",
            " [0.98734177 0.01265823]\n",
            " [0.98734177 0.01265823]\n",
            " [0.98734177 0.01265823]\n",
            " [0.98734177 0.01265823]\n",
            " [0.98734177 0.01265823]\n",
            " [0.98734177 0.01265823]\n",
            " [0.98734177 0.01265823]\n",
            " [0.98734177 0.01265823]\n",
            " [0.98734177 0.01265823]\n",
            " [0.98734177 0.01265823]\n",
            " [0.98734177 0.01265823]\n",
            " [0.98734177 0.01265823]\n",
            " [0.98734177 0.01265823]\n",
            " [0.98734177 0.01265823]\n",
            " [0.98734177 0.01265823]\n",
            " [0.98734177 0.01265823]\n",
            " [0.98734177 0.01265823]\n",
            " [0.98734177 0.01265823]\n",
            " [0.98734177 0.01265823]\n",
            " [0.98734177 0.01265823]\n",
            " [0.98734177 0.01265823]\n",
            " [0.98734177 0.01265823]\n",
            " [0.98734177 0.01265823]\n",
            " [0.98734177 0.01265823]\n",
            " [0.98734177 0.01265823]\n",
            " [0.98734177 0.01265823]\n",
            " [0.98734177 0.01265823]\n",
            " [0.98734177 0.01265823]\n",
            " [0.98734177 0.01265823]\n",
            " [0.98734177 0.01265823]\n",
            " [0.98734177 0.01265823]\n",
            " [0.98734177 0.01265823]\n",
            " [0.98734177 0.01265823]\n",
            " [0.98734177 0.01265823]\n",
            " [0.98734177 0.01265823]\n",
            " [0.98734177 0.01265823]\n",
            " [0.98734177 0.01265823]\n",
            " [0.98734177 0.01265823]\n",
            " [0.98734177 0.01265823]\n",
            " [0.98734177 0.01265823]\n",
            " [0.98734177 0.01265823]\n",
            " [0.98734177 0.01265823]\n",
            " [0.98734177 0.01265823]\n",
            " [0.98734177 0.01265823]\n",
            " [0.98734177 0.01265823]\n",
            " [0.98734177 0.01265823]\n",
            " [0.98734177 0.01265823]\n",
            " [0.98734177 0.01265823]\n",
            " [0.98734177 0.01265823]\n",
            " [0.98734177 0.01265823]\n",
            " [0.98734177 0.01265823]\n",
            " [0.98734177 0.01265823]\n",
            " [0.98734177 0.01265823]\n",
            " [0.98734177 0.01265823]\n",
            " [0.98734177 0.01265823]\n",
            " [0.98734177 0.01265823]\n",
            " [0.98734177 0.01265823]\n",
            " [0.98734177 0.01265823]]\n"
          ]
        }
      ]
    },
    {
      "cell_type": "code",
      "source": [
        "categories = ['Happiness Rank', 'Region_Australia and New Zealand']\n",
        "differences = [obs - exp for obs, exp in zip(), expected]\n",
        "fig, ax = plt.subplots()\n",
        "ax.bar(categories, expected, label='Expected')\n",
        "ax.bar(categories, differences, bottom=expected, label='Difference', color='orange')\n",
        "ax.set_ylabel('Frequency')\n",
        "ax.set_title('Stacked Bar Plot of Chi-Square Test Results')\n",
        "ax.legend()\n",
        "\n",
        "plt.tight_layout()\n",
        "plt.show()\n"
      ],
      "metadata": {
        "colab": {
          "base_uri": "https://localhost:8080/",
          "height": 143
        },
        "id": "WjU8vPsivQIW",
        "outputId": "4e370804-33de-4d4d-a6ab-23b56824f417"
      },
      "execution_count": 42,
      "outputs": [
        {
          "output_type": "error",
          "ename": "SyntaxError",
          "evalue": "ignored",
          "traceback": [
            "\u001b[0;36m  File \u001b[0;32m\"<ipython-input-42-53762e555b6f>\"\u001b[0;36m, line \u001b[0;32m2\u001b[0m\n\u001b[0;31m    differences = [obs - exp for obs, exp in zip(), expected]\u001b[0m\n\u001b[0m                                                  ^\u001b[0m\n\u001b[0;31mSyntaxError\u001b[0m\u001b[0;31m:\u001b[0m invalid syntax\n"
          ]
        }
      ]
    },
    {
      "cell_type": "code",
      "source": [
        "selected_columns = ['Economy (GDP per Capita)', 'Family']\n",
        "selected_data = df[selected_columns]\n",
        "covariance_matrix = np.cov(selected_data, rowvar=False)\n",
        "print(\"Covariance Matrix between GDp per Capita and Family is:\")\n",
        "print(covariance_matrix)"
      ],
      "metadata": {
        "colab": {
          "base_uri": "https://localhost:8080/"
        },
        "id": "cb_imk6j0-iH",
        "outputId": "b2a8123b-eb95-447b-f5b7-c44b361228d2"
      },
      "execution_count": 43,
      "outputs": [
        {
          "output_type": "stream",
          "name": "stdout",
          "text": [
            "Covariance Matrix between GDp per Capita and Family is:\n",
            "[[0.16250636 0.07085235]\n",
            " [0.07085235 0.07418492]]\n"
          ]
        }
      ]
    },
    {
      "cell_type": "code",
      "source": [
        "import seaborn as sns\n",
        "plt.figure(figsize=(8, 6))\n",
        "sns.heatmap(covariance_matrix, annot=True, cmap='coolwarm', xticklabels=selected_columns, yticklabels=selected_columns)\n",
        "plt.title('Covariance Matrix between GDP per capita and Family is')\n",
        "plt.show()"
      ],
      "metadata": {
        "colab": {
          "base_uri": "https://localhost:8080/",
          "height": 545
        },
        "id": "SXIWYmdw1bKW",
        "outputId": "39347dfd-3e5a-46c6-91e7-b172455b34f3"
      },
      "execution_count": 44,
      "outputs": [
        {
          "output_type": "display_data",
          "data": {
            "text/plain": [
              "<Figure size 800x600 with 2 Axes>"
            ],
            "image/png": "[encoded data removed]"
          },
          "metadata": {}
        }
      ]
    }
  ]
}