{
  "nbformat": 4,
  "nbformat_minor": 0,
  "metadata": {
    "colab": {
      "provenance": [],
      "gpuType": "T4",
      "authorship_tag": "ABX9TyOQ7b9HEp2c7w24LXu5YKOk",
      "include_colab_link": true
    },
    "kernelspec": {
      "name": "python3",
      "display_name": "Python 3"
    },
    "language_info": {
      "name": "python"
    },
    "accelerator": "GPU"
  },
  "cells": [
    {
      "cell_type": "markdown",
      "metadata": {
        "id": "view-in-github",
        "colab_type": "text"
      },
      "source": [
        "<a href=\"https://colab.research.google.com/github/manavgupta1261/Machine-Learning/blob/main/2348529_Lab9ML.ipynb\" target=\"_parent\"><img src=\"https://colab.research.google.com/assets/colab-badge.svg\" alt=\"Open In Colab\"/></a>"
      ]
    },
    {
      "cell_type": "code",
      "execution_count": 1,
      "metadata": {
        "id": "c2-CJyLpPNj3"
      },
      "outputs": [],
      "source": [
        "import numpy as np\n",
        "import pandas as pd\n",
        "import matplotlib.pyplot as plt\n",
        "from sklearn.model_selection import train_test_split\n",
        "from sklearn.metrics import accuracy_score"
      ]
    },
    {
      "cell_type": "code",
      "source": [
        "import os\n",
        "import cv2\n",
        "\n",
        "path = '/content/archive/Training'\n",
        "classes = {'no_tumor': 0, 'pituitary_tumor': 1}\n",
        "X = []\n",
        "Y = []\n",
        "\n",
        "for cls in classes:\n",
        "    pth = os.path.join(path, cls)\n",
        "    for j in os.listdir(pth):\n",
        "        img = cv2.imread(os.path.join(pth, j), 0)\n",
        "        img = cv2.resize(img, (200, 200))\n",
        "        X.append(img)\n",
        "        Y.append(classes[cls])"
      ],
      "metadata": {
        "id": "TxgbSs9jPw6U"
      },
      "execution_count": null,
      "outputs": []
    },
    {
      "cell_type": "code",
      "source": [
        "X = np.array(X)\n",
        "Y = np.array(Y)"
      ],
      "metadata": {
        "id": "CBE6xdJLPy55"
      },
      "execution_count": null,
      "outputs": []
    },
    {
      "cell_type": "code",
      "source": [
        "pd.Series(Y).value_counts()"
      ],
      "metadata": {
        "id": "u0X91Zy8P1Ju"
      },
      "execution_count": null,
      "outputs": []
    },
    {
      "cell_type": "code",
      "source": [
        "X_updated = X.reshape(len(X), -1)"
      ],
      "metadata": {
        "id": "z_I5WP8jP2e2"
      },
      "execution_count": null,
      "outputs": []
    },
    {
      "cell_type": "code",
      "source": [
        "X.shape, X_updated.shape"
      ],
      "metadata": {
        "id": "yDDYzx6nP4KD"
      },
      "execution_count": null,
      "outputs": []
    },
    {
      "cell_type": "code",
      "source": [
        "plt.imshow(X[0], cmap='gray')"
      ],
      "metadata": {
        "id": "0vN6j_KzQUZW"
      },
      "execution_count": null,
      "outputs": []
    },
    {
      "cell_type": "code",
      "source": [
        "X_updated = X.reshape(len(X), -1)\n",
        "X_updated.shape"
      ],
      "metadata": {
        "id": "ZGuZLjsDQWUH"
      },
      "execution_count": null,
      "outputs": []
    },
    {
      "cell_type": "code",
      "source": [
        "xtrain.shape, xtest.shape"
      ],
      "metadata": {
        "id": "E2WV9fDbQg3i"
      },
      "execution_count": null,
      "outputs": []
    },
    {
      "cell_type": "code",
      "source": [
        "print(xtrain.max(), xtrain.min())\n",
        "print(xtest.max(), xtest.min())\n",
        "xtrain = xtrain/255\n",
        "xtest = xtest/255\n",
        "print(xtrain.max(), xtrain.min())\n",
        "print(xtest.max(), xtest.min())"
      ],
      "metadata": {
        "id": "067G2n7nQiYn"
      },
      "execution_count": null,
      "outputs": []
    },
    {
      "cell_type": "code",
      "source": [
        "from sklearn.svm import SVC"
      ],
      "metadata": {
        "id": "NaQ1z25XQk_A"
      },
      "execution_count": null,
      "outputs": []
    },
    {
      "cell_type": "code",
      "source": [
        "sv = SVC()\n",
        "sv.fit(xtrain, ytrain)"
      ],
      "metadata": {
        "id": "kOB9JDP_Qm0L"
      },
      "execution_count": null,
      "outputs": []
    },
    {
      "cell_type": "code",
      "source": [
        "print(\"Training Score:\", sv.score(xtrain, ytrain))\n",
        "print(\"Testing Score:\", sv.score(xtest, ytest))"
      ],
      "metadata": {
        "id": "inQuxGGtQoMU"
      },
      "execution_count": null,
      "outputs": []
    },
    {
      "cell_type": "code",
      "source": [
        "pred = sv.predict(xtest)"
      ],
      "metadata": {
        "id": "D3DcAO-8Qp5-"
      },
      "execution_count": null,
      "outputs": []
    },
    {
      "cell_type": "code",
      "source": [
        "misclassified=np.where(ytest!=pred)\n",
        "misclassified"
      ],
      "metadata": {
        "id": "Bk6OQIJbQr0A"
      },
      "execution_count": null,
      "outputs": []
    },
    {
      "cell_type": "code",
      "source": [
        "print(\"Total Misclassified Samples: \",len(misclassified[0]))\n",
        "print(pred[81],ytest[81])"
      ],
      "metadata": {
        "id": "XZ0xXvZUQuzT"
      },
      "execution_count": null,
      "outputs": []
    },
    {
      "cell_type": "code",
      "source": [
        "dec = {0:'No Tumor', 1:'Positive Tumor'}"
      ],
      "metadata": {
        "id": "nxusoFRaQwpc"
      },
      "execution_count": null,
      "outputs": []
    },
    {
      "cell_type": "code",
      "source": [
        "plt.figure(figsize=(12,8))\n",
        "c=1\n",
        "path='/content/archive/Testing/no_tumor'\n",
        "for i in os.listdir(path)[:9]:\n",
        "  img=cv2.imread(os.path.join(path,i),0)\n",
        "  if img is not None:\n",
        "    p=sv.predict(cv2.resize(img,(200,200)).reshape(1,-1)/255)\n",
        "    plt.subplot(3,3,c)\n",
        "    plt.title(dec.get(p[0],'UnKnown'))\n",
        "    plt.imshow(img,cmap='gray')\n",
        "    plt.axis('off')\n",
        "    c+=1\n",
        "  else:\n",
        "    print(f\"Fail to load image:{i}\")\n",
        "    plt.show()"
      ],
      "metadata": {
        "id": "-zT6YQN5QyE2"
      },
      "execution_count": null,
      "outputs": []
    },
    {
      "cell_type": "code",
      "source": [
        "plt.figure(figsize=(12,8))\n",
        "c=1\n",
        "path='/content/archive/Testing/pituitary_tumor'\n",
        "for i in os.listdir(path)[:30]:\n",
        "  img=cv2.imread(os.path.join(path,i),0)\n",
        "  if img is not None:\n",
        "    p=sv.predict(cv2.resize(img,(200,200)).reshape(1,-1)/255)\n",
        "    plt.subplot(5,6,c)\n",
        "    plt.title(dec.get(p[0],'UnKnown'))\n",
        "    plt.imshow(img,cmap='gray')\n",
        "    plt.axis('off')\n",
        "    c+=1\n",
        "  else:\n",
        "    print(f'Failed to Load Image:{i}')\n",
        "    plt.show()\n",
        "\n"
      ],
      "metadata": {
        "id": "0v2rdiKPQzwf"
      },
      "execution_count": null,
      "outputs": []
    }
  ]
}