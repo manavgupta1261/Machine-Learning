{
  "nbformat": 4,
  "nbformat_minor": 0,
  "metadata": {
    "colab": {
      "provenance": [],
      "authorship_tag": "ABX9TyMHW6D8xoT/fLJ0HGa1//N3",
      "include_colab_link": true
    },
    "kernelspec": {
      "name": "python3",
      "display_name": "Python 3"
    },
    "language_info": {
      "name": "python"
    }
  },
  "cells": [
    {
      "cell_type": "markdown",
      "metadata": {
        "id": "view-in-github",
        "colab_type": "text"
      },
      "source": [
        "<a href=\"https://colab.research.google.com/github/manavgupta1261/Machine-Learning/blob/main/2348529_Lab2_NLP.ipynb\" target=\"_parent\"><img src=\"https://colab.research.google.com/assets/colab-badge.svg\" alt=\"Open In Colab\"/></a>"
      ]
    },
    {
      "cell_type": "code",
      "execution_count": 13,
      "metadata": {
        "colab": {
          "base_uri": "https://localhost:8080/"
        },
        "id": "iAFdRagtHK6J",
        "outputId": "70979565-8e5c-4634-9b66-f9d69a9f84e6"
      },
      "outputs": [
        {
          "output_type": "stream",
          "name": "stderr",
          "text": [
            "[nltk_data] Downloading package punkt to /root/nltk_data...\n",
            "[nltk_data]   Package punkt is already up-to-date!\n",
            "[nltk_data] Downloading package stopwords to /root/nltk_data...\n",
            "[nltk_data]   Unzipping corpora/stopwords.zip.\n"
          ]
        },
        {
          "output_type": "execute_result",
          "data": {
            "text/plain": [
              "True"
            ]
          },
          "metadata": {},
          "execution_count": 13
        }
      ],
      "source": [
        "import re\n",
        "import nltk\n",
        "from nltk.corpus import stopwords\n",
        "from nltk.tokenize import word_tokenize\n",
        "from nltk.probability import FreqDist\n",
        "from nltk.tokenize import sent_tokenize\n",
        "import matplotlib.pyplot as plt\n",
        "from nltk.tokenize import word_tokenize\n",
        "from nltk import pos_tag\n",
        "from nltk.stem import WordNetLemmatizer\n",
        "import nltk\n",
        "nltk.download('punkt')\n",
        "nltk.download('stopwords')"
      ]
    },
    {
      "cell_type": "code",
      "source": [
        "text=\"My name is Manav Gupta! I was born on 4-Jan-2002. I live in Chandigarh. I study at Christ University, Bangalore; Central Campus. I am doing the course MSc. Artificial Intelligence & Machine Learning. My course started on 18-Jul-2023. My phone number is +919987654312. My friend's birthday is on 01-Jan-1999. My email address is manavgupta@gmail.com. Machine learning is a field of study in artificial intelligence concerned with the development and study of statistical algorithms that can learn from data and generalize to unseen data,\""
      ],
      "metadata": {
        "id": "oeBJtD9rHW92"
      },
      "execution_count": 114,
      "outputs": []
    },
    {
      "cell_type": "code",
      "source": [
        "tokens = word_tokenize(text)\n",
        "tokens"
      ],
      "metadata": {
        "colab": {
          "base_uri": "https://localhost:8080/"
        },
        "id": "wvlo-ASfIrDs",
        "outputId": "68cd63ac-4e83-47bc-85f7-2981aef53394"
      },
      "execution_count": 65,
      "outputs": [
        {
          "output_type": "execute_result",
          "data": {
            "text/plain": [
              "['My',\n",
              " 'name',\n",
              " 'is',\n",
              " 'Manav',\n",
              " 'Gupta',\n",
              " '!',\n",
              " 'I',\n",
              " 'was',\n",
              " 'born',\n",
              " 'on',\n",
              " '04/01/2002',\n",
              " '.',\n",
              " 'I',\n",
              " 'live',\n",
              " 'in',\n",
              " 'Chandigarh',\n",
              " '.',\n",
              " 'I',\n",
              " 'study',\n",
              " 'at',\n",
              " 'Christ',\n",
              " 'University',\n",
              " ',',\n",
              " 'Bangalore',\n",
              " ';',\n",
              " 'Central',\n",
              " 'Campus',\n",
              " '.',\n",
              " 'I',\n",
              " 'am',\n",
              " 'doing',\n",
              " 'the',\n",
              " 'course',\n",
              " 'MSc',\n",
              " '.',\n",
              " 'Artificial',\n",
              " 'Intelligence',\n",
              " '&',\n",
              " 'Machine',\n",
              " 'Learning',\n",
              " '.',\n",
              " 'My',\n",
              " 'course',\n",
              " 'started',\n",
              " 'on',\n",
              " '18/7/2023',\n",
              " '.',\n",
              " 'My',\n",
              " 'phone',\n",
              " 'number',\n",
              " 'is',\n",
              " '9987654312',\n",
              " '.',\n",
              " 'My',\n",
              " 'friend',\n",
              " \"'s\",\n",
              " 'birthday',\n",
              " 'is',\n",
              " 'on',\n",
              " '01/01/1999',\n",
              " '.',\n",
              " 'My',\n",
              " 'email',\n",
              " 'address',\n",
              " 'is',\n",
              " 'manavgupta',\n",
              " '@',\n",
              " 'gmail.com',\n",
              " '.',\n",
              " 'Machine',\n",
              " 'learning',\n",
              " 'is',\n",
              " 'a',\n",
              " 'field',\n",
              " 'of',\n",
              " 'study',\n",
              " 'in',\n",
              " 'artificial',\n",
              " 'intelligence',\n",
              " 'concerned',\n",
              " 'with',\n",
              " 'the',\n",
              " 'development',\n",
              " 'and',\n",
              " 'study',\n",
              " 'of',\n",
              " 'statistical',\n",
              " 'algorithms',\n",
              " 'that',\n",
              " 'can',\n",
              " 'learn',\n",
              " 'from',\n",
              " 'data',\n",
              " 'and',\n",
              " 'generalize',\n",
              " 'to',\n",
              " 'unseen',\n",
              " 'data',\n",
              " ',']"
            ]
          },
          "metadata": {},
          "execution_count": 65
        }
      ]
    },
    {
      "cell_type": "code",
      "source": [
        "unique_tokens = set(tokens)\n",
        "print(\"Unique tokens count:\", len(unique_tokens))"
      ],
      "metadata": {
        "colab": {
          "base_uri": "https://localhost:8080/"
        },
        "id": "dQQmAb73JNsf",
        "outputId": "4da805d4-26de-4d9d-95a8-3a622ae45d1e"
      },
      "execution_count": 66,
      "outputs": [
        {
          "output_type": "stream",
          "name": "stdout",
          "text": [
            "Unique tokens count: 68\n"
          ]
        }
      ]
    },
    {
      "cell_type": "code",
      "source": [
        "tokens_no_punct = [word for word in tokens if word.isalnum()]\n",
        "punctuation_count = len(tokens) - len(tokens_no_punct)\n",
        "print(\"Punctuation count:\", punctuation_count)"
      ],
      "metadata": {
        "colab": {
          "base_uri": "https://localhost:8080/"
        },
        "id": "wmeFYPe9NmW0",
        "outputId": "e5986dea-cb2a-40be-f60a-62ee540a08c6"
      },
      "execution_count": 67,
      "outputs": [
        {
          "output_type": "stream",
          "name": "stdout",
          "text": [
            "Punctuation count: 20\n"
          ]
        }
      ]
    },
    {
      "cell_type": "code",
      "source": [
        "text_no_punct = ' '.join(tokens_no_punct)\n",
        "text_no_punct"
      ],
      "metadata": {
        "colab": {
          "base_uri": "https://localhost:8080/",
          "height": 70
        },
        "id": "wryq0DaSOhFn",
        "outputId": "a4043733-d5d0-47af-9f87-e615601d7eb9"
      },
      "execution_count": 68,
      "outputs": [
        {
          "output_type": "execute_result",
          "data": {
            "text/plain": [
              "'My name is Manav Gupta I was born on I live in Chandigarh I study at Christ University Bangalore Central Campus I am doing the course MSc Artificial Intelligence Machine Learning My course started on My phone number is 9987654312 My friend birthday is on My email address is manavgupta Machine learning is a field of study in artificial intelligence concerned with the development and study of statistical algorithms that can learn from data and generalize to unseen data'"
            ],
            "application/vnd.google.colaboratory.intrinsic+json": {
              "type": "string"
            }
          },
          "metadata": {},
          "execution_count": 68
        }
      ]
    },
    {
      "cell_type": "code",
      "source": [
        "stop_words = set(stopwords.words('english'))\n",
        "filtered_words = [word for word in tokens_no_punct if word.lower() not in stop_words]\n",
        "fdist = FreqDist(filtered_words)\n",
        "fdist.plot(10, cumulative=False)"
      ],
      "metadata": {
        "colab": {
          "base_uri": "https://localhost:8080/",
          "height": 533
        },
        "id": "B9sQLJbgJXuI",
        "outputId": "a04f8ee8-3af5-491f-a8ce-17ab8459dd58"
      },
      "execution_count": 121,
      "outputs": [
        {
          "output_type": "display_data",
          "data": {
            "text/plain": [
              "<Figure size 640x480 with 1 Axes>"
            ],
            "image/png": "[encoded data removed]"
          },
          "metadata": {}
        },
        {
          "output_type": "execute_result",
          "data": {
            "text/plain": [
              "<Axes: xlabel='Samples', ylabel='Counts'>"
            ]
          },
          "metadata": {},
          "execution_count": 121
        }
      ]
    },
    {
      "cell_type": "code",
      "source": [
        "filtered_text = ' '.join(filtered_words)\n",
        "filtered_text"
      ],
      "metadata": {
        "colab": {
          "base_uri": "https://localhost:8080/",
          "height": 70
        },
        "id": "Q78fExw5JhK6",
        "outputId": "b24bf1f9-506e-4fc5-b177-89c3e7af2233"
      },
      "execution_count": 77,
      "outputs": [
        {
          "output_type": "execute_result",
          "data": {
            "text/plain": [
              "'name Manav Gupta born live Chandigarh study Christ University Bangalore Central Campus course MSc Artificial Intelligence Machine Learning course started phone number 9987654312 friend birthday email address manavgupta Machine learning field study artificial intelligence concerned development study statistical algorithms learn data generalize unseen data'"
            ],
            "application/vnd.google.colaboratory.intrinsic+json": {
              "type": "string"
            }
          },
          "metadata": {},
          "execution_count": 77
        }
      ]
    },
    {
      "cell_type": "code",
      "source": [
        "nltk.download('averaged_perceptron_tagger')\n",
        "pos_tags = nltk.pos_tag(tokens)\n",
        "pos = [tag[1] for tag in pos_tags]\n",
        "plt.hist(pos, bins=len(set(pos)))\n",
        "plt.title('POS Tag Distribution')\n",
        "plt.xlabel('POS Tag')\n",
        "plt.ylabel('Frequency')\n",
        "plt.xticks(rotation=45)\n",
        "plt.show()"
      ],
      "metadata": {
        "colab": {
          "base_uri": "https://localhost:8080/",
          "height": 562
        },
        "id": "x7WSPX_PSUQ1",
        "outputId": "efa907b6-eb0e-4e65-b903-48b5482c53e5"
      },
      "execution_count": 83,
      "outputs": [
        {
          "output_type": "stream",
          "name": "stderr",
          "text": [
            "[nltk_data] Downloading package averaged_perceptron_tagger to\n",
            "[nltk_data]     /root/nltk_data...\n",
            "[nltk_data]   Package averaged_perceptron_tagger is already up-to-\n",
            "[nltk_data]       date!\n"
          ]
        },
        {
          "output_type": "display_data",
          "data": {
            "text/plain": [
              "<Figure size 640x480 with 1 Axes>"
            ],
            "image/png": "[encoded data removed]"
          },
          "metadata": {}
        }
      ]
    },
    {
      "cell_type": "code",
      "source": [
        "lemmatizer = WordNetLemmatizer()\n",
        "lemmatized_words = [lemmatizer.lemmatize(token) for token in tokens]\n",
        "lemmatized_words"
      ],
      "metadata": {
        "colab": {
          "base_uri": "https://localhost:8080/"
        },
        "id": "WdTSod8GS6UA",
        "outputId": "2291e923-30bd-4715-c54c-5baddf91f4b3"
      },
      "execution_count": 89,
      "outputs": [
        {
          "output_type": "execute_result",
          "data": {
            "text/plain": [
              "['My',\n",
              " 'name',\n",
              " 'is',\n",
              " 'Manav',\n",
              " 'Gupta',\n",
              " '!',\n",
              " 'I',\n",
              " 'wa',\n",
              " 'born',\n",
              " 'on',\n",
              " '04/01/2002',\n",
              " '.',\n",
              " 'I',\n",
              " 'live',\n",
              " 'in',\n",
              " 'Chandigarh',\n",
              " '.',\n",
              " 'I',\n",
              " 'study',\n",
              " 'at',\n",
              " 'Christ',\n",
              " 'University',\n",
              " ',',\n",
              " 'Bangalore',\n",
              " ';',\n",
              " 'Central',\n",
              " 'Campus',\n",
              " '.',\n",
              " 'I',\n",
              " 'am',\n",
              " 'doing',\n",
              " 'the',\n",
              " 'course',\n",
              " 'MSc',\n",
              " '.',\n",
              " 'Artificial',\n",
              " 'Intelligence',\n",
              " '&',\n",
              " 'Machine',\n",
              " 'Learning',\n",
              " '.',\n",
              " 'My',\n",
              " 'course',\n",
              " 'started',\n",
              " 'on',\n",
              " '18/7/2023',\n",
              " '.',\n",
              " 'My',\n",
              " 'phone',\n",
              " 'number',\n",
              " 'is',\n",
              " '9987654312',\n",
              " '.',\n",
              " 'My',\n",
              " 'friend',\n",
              " \"'s\",\n",
              " 'birthday',\n",
              " 'is',\n",
              " 'on',\n",
              " '01/01/1999',\n",
              " '.',\n",
              " 'My',\n",
              " 'email',\n",
              " 'address',\n",
              " 'is',\n",
              " 'manavgupta',\n",
              " '@',\n",
              " 'gmail.com',\n",
              " '.',\n",
              " 'Machine',\n",
              " 'learning',\n",
              " 'is',\n",
              " 'a',\n",
              " 'field',\n",
              " 'of',\n",
              " 'study',\n",
              " 'in',\n",
              " 'artificial',\n",
              " 'intelligence',\n",
              " 'concerned',\n",
              " 'with',\n",
              " 'the',\n",
              " 'development',\n",
              " 'and',\n",
              " 'study',\n",
              " 'of',\n",
              " 'statistical',\n",
              " 'algorithm',\n",
              " 'that',\n",
              " 'can',\n",
              " 'learn',\n",
              " 'from',\n",
              " 'data',\n",
              " 'and',\n",
              " 'generalize',\n",
              " 'to',\n",
              " 'unseen',\n",
              " 'data',\n",
              " ',']"
            ]
          },
          "metadata": {},
          "execution_count": 89
        }
      ]
    },
    {
      "cell_type": "code",
      "source": [
        "unique_lemmas = set(lemmatized_words)\n",
        "num_unique_lemmas = len(unique_lemmas)\n",
        "print(\"Number of unique lemmas:\", num_unique_lemmas)"
      ],
      "metadata": {
        "colab": {
          "base_uri": "https://localhost:8080/"
        },
        "id": "Rz4h8NH_KGdA",
        "outputId": "eb6d5db3-a5ad-4797-8bcf-780d715bb8da"
      },
      "execution_count": 88,
      "outputs": [
        {
          "output_type": "stream",
          "name": "stdout",
          "text": [
            "Number of unique lemmas: 68\n"
          ]
        }
      ]
    },
    {
      "cell_type": "code",
      "source": [
        "fdist = FreqDist(tokens_no_punct)\n",
        "fdist.plot(10, cumulative=False)"
      ],
      "metadata": {
        "colab": {
          "base_uri": "https://localhost:8080/",
          "height": 511
        },
        "id": "3_rYEhIvTddF",
        "outputId": "83df98f7-c957-4816-a0ac-5bf13efadbab"
      },
      "execution_count": 99,
      "outputs": [
        {
          "output_type": "display_data",
          "data": {
            "text/plain": [
              "<Figure size 640x480 with 1 Axes>"
            ],
            "image/png": "[encoded data removed]"
          },
          "metadata": {}
        },
        {
          "output_type": "execute_result",
          "data": {
            "text/plain": [
              "<Axes: xlabel='Samples', ylabel='Counts'>"
            ]
          },
          "metadata": {},
          "execution_count": 99
        }
      ]
    },
    {
      "cell_type": "code",
      "source": [
        "bigrams = list(nltk.bigrams(tokens_no_punct))\n",
        "trigrams = list(nltk.trigrams(tokens_no_punct))\n",
        "quadgrams = list(nltk.ngrams(tokens_no_punct, 4))\n",
        "print(\"Unique bigrams:\", len(set(bigrams)))\n",
        "print(\"Unique trigrams:\", len(set(trigrams)))\n",
        "print(\"Unique quadgrams:\", len(set(quadgrams)))"
      ],
      "metadata": {
        "colab": {
          "base_uri": "https://localhost:8080/"
        },
        "id": "c6l0jBuhKIt7",
        "outputId": "fce35a41-1691-48f3-b774-3d677699b90f"
      },
      "execution_count": 32,
      "outputs": [
        {
          "output_type": "stream",
          "name": "stdout",
          "text": [
            "Unique bigrams: 72\n",
            "Unique trigrams: 76\n",
            "Unique quadgrams: 75\n"
          ]
        }
      ]
    },
    {
      "cell_type": "code",
      "source": [
        "from datetime import datetime\n",
        "date_pattern = r'\\b(\\d{1,2})-(Jan|Feb|Mar|Apr|May|Jun|Jul|Aug|Sep|Oct|Nov|Dec)-(\\d{4})\\b'\n",
        "dates = re.findall(date_pattern, text)\n",
        "formatted_dates = []\n",
        "for date_tuple in dates:\n",
        "  day, month, year = date_tuple\n",
        "  month_number = datetime.strptime(month, '%b').month\n",
        "  formatted_date = datetime(int(year), month_number, int(day)).strftime('%d-%m-%Y')\n",
        "  formatted_dates.append(formatted_date)\n",
        "formatted_dates"
      ],
      "metadata": {
        "colab": {
          "base_uri": "https://localhost:8080/"
        },
        "id": "9q7QJEolKKIC",
        "outputId": "3f220424-fb86-4d76-bf26-5a7a2114976c"
      },
      "execution_count": 108,
      "outputs": [
        {
          "output_type": "execute_result",
          "data": {
            "text/plain": [
              "['04-01-2002', '18-07-2023', '01-01-1999']"
            ]
          },
          "metadata": {},
          "execution_count": 108
        }
      ]
    },
    {
      "cell_type": "code",
      "source": [
        "year_counts = {}\n",
        "for year in formatted_dates:\n",
        "  if year in year_counts:\n",
        "    year_counts[year] += 1\n",
        "  else:\n",
        "    year_counts[year] = 1"
      ],
      "metadata": {
        "id": "ZAYpK3RRWF3p"
      },
      "execution_count": 110,
      "outputs": []
    },
    {
      "cell_type": "code",
      "source": [
        "plt.bar(year_counts.keys(), year_counts.values())\n",
        "plt.title('Year Distribution')\n",
        "plt.xlabel('Year')\n",
        "plt.ylabel('Frequency')\n",
        "plt.xticks(rotation=45)\n",
        "plt.show()"
      ],
      "metadata": {
        "colab": {
          "base_uri": "https://localhost:8080/",
          "height": 525
        },
        "id": "weNsk3XbWakb",
        "outputId": "4cd88e0a-04a9-4ebe-a281-5ce81a49f69f"
      },
      "execution_count": 112,
      "outputs": [
        {
          "output_type": "display_data",
          "data": {
            "text/plain": [
              "<Figure size 640x480 with 1 Axes>"
            ],
            "image/png": "[encoded data removed]"
          },
          "metadata": {}
        }
      ]
    },
    {
      "cell_type": "markdown",
      "source": [
        "1. Cleaning data\n",
        "2. Extracting contact details from long text"
      ],
      "metadata": {
        "id": "q5DfbhqfYrCn"
      }
    }
  ]
}