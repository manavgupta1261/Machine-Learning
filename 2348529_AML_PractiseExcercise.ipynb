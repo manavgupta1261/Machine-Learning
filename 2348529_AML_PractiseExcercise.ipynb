{
  "nbformat": 4,
  "nbformat_minor": 0,
  "metadata": {
    "colab": {
      "provenance": [],
      "authorship_tag": "ABX9TyMYaNlC12JfK3bOqHv9favX",
      "include_colab_link": true
    },
    "kernelspec": {
      "name": "python3",
      "display_name": "Python 3"
    },
    "language_info": {
      "name": "python"
    }
  },
  "cells": [
    {
      "cell_type": "markdown",
      "metadata": {
        "id": "view-in-github",
        "colab_type": "text"
      },
      "source": [
        "<a href=\"https://colab.research.google.com/github/manavgupta1261/Machine-Learning/blob/main/2348529_AML_PractiseExcercise.ipynb\" target=\"_parent\"><img src=\"https://colab.research.google.com/assets/colab-badge.svg\" alt=\"Open In Colab\"/></a>"
      ]
    },
    {
      "cell_type": "code",
      "execution_count": 16,
      "metadata": {
        "id": "Grgcfm8NCko6"
      },
      "outputs": [],
      "source": [
        "import pandas as pd\n",
        "import numpy as np\n",
        "import matplotlib.pyplot  as plt\n",
        "import seaborn as sns\n",
        "\n",
        "\n",
        "df = pd.read_csv('/content/data - data.csv')"
      ]
    },
    {
      "cell_type": "code",
      "source": [
        "df.info()"
      ],
      "metadata": {
        "id": "V13hxlHNDoFT"
      },
      "execution_count": null,
      "outputs": []
    },
    {
      "cell_type": "code",
      "source": [
        "df.head"
      ],
      "metadata": {
        "id": "QQaqUoJnDuq-"
      },
      "execution_count": null,
      "outputs": []
    },
    {
      "cell_type": "code",
      "source": [
        "df.shape"
      ],
      "metadata": {
        "id": "ZN3iP1uGDv7O"
      },
      "execution_count": null,
      "outputs": []
    },
    {
      "cell_type": "code",
      "source": [
        "df.drop(['date'], axis = 1, inplace = True)\n",
        "df.head()"
      ],
      "metadata": {
        "id": "LJ5GyH_gD0tr"
      },
      "execution_count": null,
      "outputs": []
    },
    {
      "cell_type": "code",
      "source": [
        "df.country.value_counts()"
      ],
      "metadata": {
        "id": "Eez2GNhFEMGe"
      },
      "execution_count": null,
      "outputs": []
    },
    {
      "cell_type": "code",
      "source": [
        "df.drop(['country'], axis = 1, inplace = True)\n",
        "df.head()"
      ],
      "metadata": {
        "id": "UXjxsUdcEOwg"
      },
      "execution_count": null,
      "outputs": []
    },
    {
      "cell_type": "code",
      "source": [
        "df.drop(['street', 'city'], axis = 1, inplace = True)\n",
        "df.head()"
      ],
      "metadata": {
        "id": "JiGUuBWOEVxK"
      },
      "execution_count": null,
      "outputs": []
    },
    {
      "cell_type": "code",
      "source": [
        "df.isnull().sum()"
      ],
      "metadata": {
        "id": "FRNKEeVXEZvn"
      },
      "execution_count": null,
      "outputs": []
    },
    {
      "cell_type": "code",
      "source": [
        "a4_dims = (10, 8)\n",
        "fig, ax = plt.subplots(figsize=a4_dims)\n",
        "cor = df.corr()\n",
        "sns.heatmap(cor, annot = True, cmap=\"YlGnBu\")"
      ],
      "metadata": {
        "id": "WR9b_X5-Edzx"
      },
      "execution_count": null,
      "outputs": []
    },
    {
      "cell_type": "code",
      "source": [
        "a4_dims = (15, 5)\n",
        "fig, ax = plt.subplots(figsize=a4_dims)\n",
        "sns.barplot(x = df.bedrooms, y = df.price)"
      ],
      "metadata": {
        "id": "MHuuCqftE1P9"
      },
      "execution_count": null,
      "outputs": []
    },
    {
      "cell_type": "code",
      "source": [
        "df.groupby('bedrooms').price.agg([len, min, max])"
      ],
      "metadata": {
        "id": "tMH7NW1LE86M"
      },
      "execution_count": null,
      "outputs": []
    },
    {
      "cell_type": "code",
      "source": [
        "df1 = df[(df.bedrooms > 0) & (df.bedrooms < 9)].copy()"
      ],
      "metadata": {
        "id": "X2Gb_DV2FCBI"
      },
      "execution_count": 22,
      "outputs": []
    },
    {
      "cell_type": "code",
      "source": [
        "df1.shape"
      ],
      "metadata": {
        "id": "PZpyi1bTFN8u"
      },
      "execution_count": null,
      "outputs": []
    },
    {
      "cell_type": "code",
      "source": [
        "bin_edges = [0, 3, 5, 7, 9, 11]\n",
        "bin_labels = ['1-2', '3-4', '5-6', '7-8', '9-11']\n",
        "data['quantity_bin'] = pd.cut(data['Quantity'], bins=bin_edges, labels=bin_labels, include_lowest=True)"
      ],
      "metadata": {
        "id": "MIn7nZXCHXhl"
      },
      "execution_count": null,
      "outputs": []
    }
  ]
}